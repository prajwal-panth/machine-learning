{
 "cells": [
  {
   "cell_type": "markdown",
   "id": "dce0eeac",
   "metadata": {
    "papermill": {
     "duration": 0.006428,
     "end_time": "2025-01-24T20:28:30.294126",
     "exception": false,
     "start_time": "2025-01-24T20:28:30.287698",
     "status": "completed"
    },
    "tags": []
   },
   "source": [
    "## Step-1: Import Libraires"
   ]
  },
  {
   "cell_type": "code",
   "execution_count": 1,
   "id": "380b7fc4",
   "metadata": {
    "execution": {
     "iopub.execute_input": "2025-01-24T20:28:30.307305Z",
     "iopub.status.busy": "2025-01-24T20:28:30.306977Z",
     "iopub.status.idle": "2025-01-24T20:28:33.160824Z",
     "shell.execute_reply": "2025-01-24T20:28:33.159550Z"
    },
    "papermill": {
     "duration": 2.862359,
     "end_time": "2025-01-24T20:28:33.162533",
     "exception": false,
     "start_time": "2025-01-24T20:28:30.300174",
     "status": "completed"
    },
    "tags": []
   },
   "outputs": [
    {
     "name": "stdout",
     "output_type": "stream",
     "text": [
      ">>> Setup complete <<<\n"
     ]
    }
   ],
   "source": [
    "import pandas as pd \n",
    "import matplotlib.pyplot as plt\n",
    "import seaborn as sns\n",
    "\n",
    "from sklearn.preprocessing import StandardScaler\n",
    "from sklearn.model_selection import train_test_split\n",
    "from sklearn.linear_model import LinearRegression\n",
    "from sklearn.metrics import mean_squared_error, mean_absolute_error, r2_score\n",
    "\n",
    "print('>>> Setup complete <<<')"
   ]
  },
  {
   "cell_type": "markdown",
   "id": "a7968ffc",
   "metadata": {
    "papermill": {
     "duration": 0.005719,
     "end_time": "2025-01-24T20:28:33.174693",
     "exception": false,
     "start_time": "2025-01-24T20:28:33.168974",
     "status": "completed"
    },
    "tags": []
   },
   "source": [
    "## Step-2: Load the dataset"
   ]
  },
  {
   "cell_type": "code",
   "execution_count": 3,
   "id": "9cb4da8d",
   "metadata": {
    "execution": {
     "iopub.execute_input": "2025-01-24T20:28:33.188242Z",
     "iopub.status.busy": "2025-01-24T20:28:33.187604Z",
     "iopub.status.idle": "2025-01-24T20:28:33.238833Z",
     "shell.execute_reply": "2025-01-24T20:28:33.237766Z"
    },
    "papermill": {
     "duration": 0.059843,
     "end_time": "2025-01-24T20:28:33.240555",
     "exception": false,
     "start_time": "2025-01-24T20:28:33.180712",
     "status": "completed"
    },
    "tags": []
   },
   "outputs": [
    {
     "data": {
      "text/html": [
       "<div>\n",
       "<style scoped>\n",
       "    .dataframe tbody tr th:only-of-type {\n",
       "        vertical-align: middle;\n",
       "    }\n",
       "\n",
       "    .dataframe tbody tr th {\n",
       "        vertical-align: top;\n",
       "    }\n",
       "\n",
       "    .dataframe thead th {\n",
       "        text-align: right;\n",
       "    }\n",
       "</style>\n",
       "<table border=\"1\" class=\"dataframe\">\n",
       "  <thead>\n",
       "    <tr style=\"text-align: right;\">\n",
       "      <th></th>\n",
       "      <th>Hours Studied</th>\n",
       "      <th>Previous Scores</th>\n",
       "      <th>Extracurricular Activities</th>\n",
       "      <th>Sleep Hours</th>\n",
       "      <th>Sample Question Papers Practiced</th>\n",
       "      <th>Performance Index</th>\n",
       "    </tr>\n",
       "  </thead>\n",
       "  <tbody>\n",
       "    <tr>\n",
       "      <th>9800</th>\n",
       "      <td>5</td>\n",
       "      <td>77</td>\n",
       "      <td>No</td>\n",
       "      <td>6</td>\n",
       "      <td>1</td>\n",
       "      <td>60.0</td>\n",
       "    </tr>\n",
       "    <tr>\n",
       "      <th>4191</th>\n",
       "      <td>3</td>\n",
       "      <td>80</td>\n",
       "      <td>Yes</td>\n",
       "      <td>8</td>\n",
       "      <td>0</td>\n",
       "      <td>62.0</td>\n",
       "    </tr>\n",
       "    <tr>\n",
       "      <th>4300</th>\n",
       "      <td>5</td>\n",
       "      <td>64</td>\n",
       "      <td>No</td>\n",
       "      <td>5</td>\n",
       "      <td>4</td>\n",
       "      <td>49.0</td>\n",
       "    </tr>\n",
       "    <tr>\n",
       "      <th>2286</th>\n",
       "      <td>9</td>\n",
       "      <td>93</td>\n",
       "      <td>Yes</td>\n",
       "      <td>9</td>\n",
       "      <td>6</td>\n",
       "      <td>97.0</td>\n",
       "    </tr>\n",
       "    <tr>\n",
       "      <th>8206</th>\n",
       "      <td>8</td>\n",
       "      <td>60</td>\n",
       "      <td>No</td>\n",
       "      <td>4</td>\n",
       "      <td>6</td>\n",
       "      <td>55.0</td>\n",
       "    </tr>\n",
       "  </tbody>\n",
       "</table>\n",
       "</div>"
      ],
      "text/plain": [
       "      Hours Studied  Previous Scores Extracurricular Activities  Sleep Hours  \\\n",
       "9800              5               77                         No            6   \n",
       "4191              3               80                        Yes            8   \n",
       "4300              5               64                         No            5   \n",
       "2286              9               93                        Yes            9   \n",
       "8206              8               60                         No            4   \n",
       "\n",
       "      Sample Question Papers Practiced  Performance Index  \n",
       "9800                                 1               60.0  \n",
       "4191                                 0               62.0  \n",
       "4300                                 4               49.0  \n",
       "2286                                 6               97.0  \n",
       "8206                                 6               55.0  "
      ]
     },
     "execution_count": 3,
     "metadata": {},
     "output_type": "execute_result"
    }
   ],
   "source": [
    "filepath = \"Student_Performance.csv\"\n",
    "try:\n",
    "    df = pd.read_csv(filepath)\n",
    "except Exception as e:\n",
    "    print(\"Error:\", e)\n",
    "\n",
    "df = pd.read_csv(filepath)\n",
    "df.sample(5)"
   ]
  },
  {
   "cell_type": "markdown",
   "id": "0387a5e3",
   "metadata": {
    "papermill": {
     "duration": 0.005844,
     "end_time": "2025-01-24T20:28:33.252744",
     "exception": false,
     "start_time": "2025-01-24T20:28:33.246900",
     "status": "completed"
    },
    "tags": []
   },
   "source": [
    "## Step-3: Explore and Understand Dataset"
   ]
  },
  {
   "cell_type": "code",
   "execution_count": 4,
   "id": "28369a5b",
   "metadata": {
    "execution": {
     "iopub.execute_input": "2025-01-24T20:28:33.266133Z",
     "iopub.status.busy": "2025-01-24T20:28:33.265727Z",
     "iopub.status.idle": "2025-01-24T20:28:33.291317Z",
     "shell.execute_reply": "2025-01-24T20:28:33.290033Z"
    },
    "papermill": {
     "duration": 0.034211,
     "end_time": "2025-01-24T20:28:33.293043",
     "exception": false,
     "start_time": "2025-01-24T20:28:33.258832",
     "status": "completed"
    },
    "tags": []
   },
   "outputs": [
    {
     "name": "stdout",
     "output_type": "stream",
     "text": [
      "Index(['Hours Studied', 'Previous Scores', 'Extracurricular Activities',\n",
      "       'Sleep Hours', 'Sample Question Papers Practiced', 'Performance Index'],\n",
      "      dtype='object')\n",
      "['Hours Studied', 'Previous Scores', 'Extracurricular Activities', 'Sleep Hours', 'Sample Question Papers Practiced', 'Performance Index']\n",
      "--------------------------\n",
      "There are 10000 rows and 6 columns\n",
      "Rows x Columns: 60000\n",
      "--------------------------\n",
      "Info about dataset:\n",
      "<class 'pandas.core.frame.DataFrame'>\n",
      "RangeIndex: 10000 entries, 0 to 9999\n",
      "Data columns (total 6 columns):\n",
      " #   Column                            Non-Null Count  Dtype  \n",
      "---  ------                            --------------  -----  \n",
      " 0   Hours Studied                     10000 non-null  int64  \n",
      " 1   Previous Scores                   10000 non-null  int64  \n",
      " 2   Extracurricular Activities        10000 non-null  object \n",
      " 3   Sleep Hours                       10000 non-null  int64  \n",
      " 4   Sample Question Papers Practiced  10000 non-null  int64  \n",
      " 5   Performance Index                 10000 non-null  float64\n",
      "dtypes: float64(1), int64(4), object(1)\n",
      "memory usage: 468.9+ KB\n"
     ]
    }
   ],
   "source": [
    "print(df.columns)\n",
    "print(df.columns.tolist())\n",
    "print(\"--------------------------\")\n",
    "nRow, nCol = df.shape\n",
    "print(f\"There are {nRow} rows and {nCol} columns\")\n",
    "print(\"Rows x Columns:\", df.size)\n",
    "print(\"--------------------------\")\n",
    "print(\"Info about dataset:\")\n",
    "df.info()"
   ]
  },
  {
   "cell_type": "code",
   "execution_count": 5,
   "id": "5f570302",
   "metadata": {
    "execution": {
     "iopub.execute_input": "2025-01-24T20:28:33.308720Z",
     "iopub.status.busy": "2025-01-24T20:28:33.308392Z",
     "iopub.status.idle": "2025-01-24T20:28:33.348738Z",
     "shell.execute_reply": "2025-01-24T20:28:33.347727Z"
    },
    "papermill": {
     "duration": 0.049374,
     "end_time": "2025-01-24T20:28:33.350398",
     "exception": false,
     "start_time": "2025-01-24T20:28:33.301024",
     "status": "completed"
    },
    "tags": []
   },
   "outputs": [
    {
     "data": {
      "text/html": [
       "<div>\n",
       "<style scoped>\n",
       "    .dataframe tbody tr th:only-of-type {\n",
       "        vertical-align: middle;\n",
       "    }\n",
       "\n",
       "    .dataframe tbody tr th {\n",
       "        vertical-align: top;\n",
       "    }\n",
       "\n",
       "    .dataframe thead th {\n",
       "        text-align: right;\n",
       "    }\n",
       "</style>\n",
       "<table border=\"1\" class=\"dataframe\">\n",
       "  <thead>\n",
       "    <tr style=\"text-align: right;\">\n",
       "      <th></th>\n",
       "      <th>Hours Studied</th>\n",
       "      <th>Previous Scores</th>\n",
       "      <th>Extracurricular Activities</th>\n",
       "      <th>Sleep Hours</th>\n",
       "      <th>Sample Question Papers Practiced</th>\n",
       "      <th>Performance Index</th>\n",
       "    </tr>\n",
       "  </thead>\n",
       "  <tbody>\n",
       "    <tr>\n",
       "      <th>count</th>\n",
       "      <td>10000.000000</td>\n",
       "      <td>10000.000000</td>\n",
       "      <td>10000</td>\n",
       "      <td>10000.000000</td>\n",
       "      <td>10000.000000</td>\n",
       "      <td>10000.000000</td>\n",
       "    </tr>\n",
       "    <tr>\n",
       "      <th>unique</th>\n",
       "      <td>NaN</td>\n",
       "      <td>NaN</td>\n",
       "      <td>2</td>\n",
       "      <td>NaN</td>\n",
       "      <td>NaN</td>\n",
       "      <td>NaN</td>\n",
       "    </tr>\n",
       "    <tr>\n",
       "      <th>top</th>\n",
       "      <td>NaN</td>\n",
       "      <td>NaN</td>\n",
       "      <td>No</td>\n",
       "      <td>NaN</td>\n",
       "      <td>NaN</td>\n",
       "      <td>NaN</td>\n",
       "    </tr>\n",
       "    <tr>\n",
       "      <th>freq</th>\n",
       "      <td>NaN</td>\n",
       "      <td>NaN</td>\n",
       "      <td>5052</td>\n",
       "      <td>NaN</td>\n",
       "      <td>NaN</td>\n",
       "      <td>NaN</td>\n",
       "    </tr>\n",
       "    <tr>\n",
       "      <th>mean</th>\n",
       "      <td>4.992900</td>\n",
       "      <td>69.445700</td>\n",
       "      <td>NaN</td>\n",
       "      <td>6.530600</td>\n",
       "      <td>4.583300</td>\n",
       "      <td>55.224800</td>\n",
       "    </tr>\n",
       "    <tr>\n",
       "      <th>std</th>\n",
       "      <td>2.589309</td>\n",
       "      <td>17.343152</td>\n",
       "      <td>NaN</td>\n",
       "      <td>1.695863</td>\n",
       "      <td>2.867348</td>\n",
       "      <td>19.212558</td>\n",
       "    </tr>\n",
       "    <tr>\n",
       "      <th>min</th>\n",
       "      <td>1.000000</td>\n",
       "      <td>40.000000</td>\n",
       "      <td>NaN</td>\n",
       "      <td>4.000000</td>\n",
       "      <td>0.000000</td>\n",
       "      <td>10.000000</td>\n",
       "    </tr>\n",
       "    <tr>\n",
       "      <th>25%</th>\n",
       "      <td>3.000000</td>\n",
       "      <td>54.000000</td>\n",
       "      <td>NaN</td>\n",
       "      <td>5.000000</td>\n",
       "      <td>2.000000</td>\n",
       "      <td>40.000000</td>\n",
       "    </tr>\n",
       "    <tr>\n",
       "      <th>50%</th>\n",
       "      <td>5.000000</td>\n",
       "      <td>69.000000</td>\n",
       "      <td>NaN</td>\n",
       "      <td>7.000000</td>\n",
       "      <td>5.000000</td>\n",
       "      <td>55.000000</td>\n",
       "    </tr>\n",
       "    <tr>\n",
       "      <th>75%</th>\n",
       "      <td>7.000000</td>\n",
       "      <td>85.000000</td>\n",
       "      <td>NaN</td>\n",
       "      <td>8.000000</td>\n",
       "      <td>7.000000</td>\n",
       "      <td>71.000000</td>\n",
       "    </tr>\n",
       "    <tr>\n",
       "      <th>max</th>\n",
       "      <td>9.000000</td>\n",
       "      <td>99.000000</td>\n",
       "      <td>NaN</td>\n",
       "      <td>9.000000</td>\n",
       "      <td>9.000000</td>\n",
       "      <td>100.000000</td>\n",
       "    </tr>\n",
       "  </tbody>\n",
       "</table>\n",
       "</div>"
      ],
      "text/plain": [
       "        Hours Studied  Previous Scores Extracurricular Activities  \\\n",
       "count    10000.000000     10000.000000                      10000   \n",
       "unique            NaN              NaN                          2   \n",
       "top               NaN              NaN                         No   \n",
       "freq              NaN              NaN                       5052   \n",
       "mean         4.992900        69.445700                        NaN   \n",
       "std          2.589309        17.343152                        NaN   \n",
       "min          1.000000        40.000000                        NaN   \n",
       "25%          3.000000        54.000000                        NaN   \n",
       "50%          5.000000        69.000000                        NaN   \n",
       "75%          7.000000        85.000000                        NaN   \n",
       "max          9.000000        99.000000                        NaN   \n",
       "\n",
       "         Sleep Hours  Sample Question Papers Practiced  Performance Index  \n",
       "count   10000.000000                      10000.000000       10000.000000  \n",
       "unique           NaN                               NaN                NaN  \n",
       "top              NaN                               NaN                NaN  \n",
       "freq             NaN                               NaN                NaN  \n",
       "mean        6.530600                          4.583300          55.224800  \n",
       "std         1.695863                          2.867348          19.212558  \n",
       "min         4.000000                          0.000000          10.000000  \n",
       "25%         5.000000                          2.000000          40.000000  \n",
       "50%         7.000000                          5.000000          55.000000  \n",
       "75%         8.000000                          7.000000          71.000000  \n",
       "max         9.000000                          9.000000         100.000000  "
      ]
     },
     "execution_count": 5,
     "metadata": {},
     "output_type": "execute_result"
    }
   ],
   "source": [
    "# df.describe()\n",
    "df.describe(include=\"all\")"
   ]
  },
  {
   "cell_type": "code",
   "execution_count": 6,
   "id": "aeca3038",
   "metadata": {},
   "outputs": [
    {
     "name": "stdout",
     "output_type": "stream",
     "text": [
      "Extracurricular Activities ['Yes' 'No']\n",
      "['Yes' 'No']\n"
     ]
    }
   ],
   "source": [
    "for col in df.columns:\n",
    "    if type(df[col][0]) is str:\n",
    "        print(col,df[col].unique())\n",
    "\n",
    "print(df['Extracurricular Activities'].unique())"
   ]
  },
  {
   "cell_type": "markdown",
   "id": "f9422784",
   "metadata": {
    "papermill": {
     "duration": 0.006136,
     "end_time": "2025-01-24T20:28:33.363234",
     "exception": false,
     "start_time": "2025-01-24T20:28:33.357098",
     "status": "completed"
    },
    "tags": []
   },
   "source": [
    "## Step-4: Handle Missing Values (if any exist)"
   ]
  },
  {
   "cell_type": "code",
   "execution_count": 7,
   "id": "e64967a1",
   "metadata": {
    "execution": {
     "iopub.execute_input": "2025-01-24T20:28:33.377828Z",
     "iopub.status.busy": "2025-01-24T20:28:33.377489Z",
     "iopub.status.idle": "2025-01-24T20:28:33.386118Z",
     "shell.execute_reply": "2025-01-24T20:28:33.384987Z"
    },
    "papermill": {
     "duration": 0.017668,
     "end_time": "2025-01-24T20:28:33.387793",
     "exception": false,
     "start_time": "2025-01-24T20:28:33.370125",
     "status": "completed"
    },
    "tags": []
   },
   "outputs": [
    {
     "name": "stdout",
     "output_type": "stream",
     "text": [
      "\n",
      "Missing values per column:\n",
      " Hours Studied                       0\n",
      "Previous Scores                     0\n",
      "Extracurricular Activities          0\n",
      "Sleep Hours                         0\n",
      "Sample Question Papers Practiced    0\n",
      "Performance Index                   0\n",
      "dtype: int64\n",
      "\n",
      "Total number of missing values in the DataFrame: 0\n"
     ]
    }
   ],
   "source": [
    "# To count NaN or missing values per column\n",
    "missing_per_column = df.isna().sum()\n",
    "print(\"\\nMissing values per column:\\n\", missing_per_column)\n",
    "# Count the number of NaN values in the entire DataFrame\n",
    "missing_values = df.isna().sum().sum()\n",
    "print(\"\\nTotal number of missing values in the DataFrame:\", missing_values)"
   ]
  },
  {
   "cell_type": "markdown",
   "id": "44b362c3",
   "metadata": {
    "papermill": {
     "duration": 0.006409,
     "end_time": "2025-01-24T20:28:33.401410",
     "exception": false,
     "start_time": "2025-01-24T20:28:33.395001",
     "status": "completed"
    },
    "tags": []
   },
   "source": [
    "## Step-5: Mapping"
   ]
  },
  {
   "cell_type": "code",
   "execution_count": 20,
   "id": "c36357a6",
   "metadata": {
    "execution": {
     "iopub.execute_input": "2025-01-24T20:28:33.415693Z",
     "iopub.status.busy": "2025-01-24T20:28:33.415339Z",
     "iopub.status.idle": "2025-01-24T20:28:33.423987Z",
     "shell.execute_reply": "2025-01-24T20:28:33.423080Z"
    },
    "papermill": {
     "duration": 0.017594,
     "end_time": "2025-01-24T20:28:33.425517",
     "exception": false,
     "start_time": "2025-01-24T20:28:33.407923",
     "status": "completed"
    },
    "tags": []
   },
   "outputs": [
    {
     "data": {
      "text/html": [
       "<div>\n",
       "<style scoped>\n",
       "    .dataframe tbody tr th:only-of-type {\n",
       "        vertical-align: middle;\n",
       "    }\n",
       "\n",
       "    .dataframe tbody tr th {\n",
       "        vertical-align: top;\n",
       "    }\n",
       "\n",
       "    .dataframe thead th {\n",
       "        text-align: right;\n",
       "    }\n",
       "</style>\n",
       "<table border=\"1\" class=\"dataframe\">\n",
       "  <thead>\n",
       "    <tr style=\"text-align: right;\">\n",
       "      <th></th>\n",
       "      <th>Hours Studied</th>\n",
       "      <th>Previous Scores</th>\n",
       "      <th>Extracurricular Activities</th>\n",
       "      <th>Sleep Hours</th>\n",
       "      <th>Sample Question Papers Practiced</th>\n",
       "      <th>Performance Index</th>\n",
       "    </tr>\n",
       "  </thead>\n",
       "  <tbody>\n",
       "    <tr>\n",
       "      <th>0</th>\n",
       "      <td>7</td>\n",
       "      <td>99</td>\n",
       "      <td>1</td>\n",
       "      <td>9</td>\n",
       "      <td>1</td>\n",
       "      <td>91.0</td>\n",
       "    </tr>\n",
       "    <tr>\n",
       "      <th>1</th>\n",
       "      <td>4</td>\n",
       "      <td>82</td>\n",
       "      <td>0</td>\n",
       "      <td>4</td>\n",
       "      <td>2</td>\n",
       "      <td>65.0</td>\n",
       "    </tr>\n",
       "    <tr>\n",
       "      <th>2</th>\n",
       "      <td>8</td>\n",
       "      <td>51</td>\n",
       "      <td>1</td>\n",
       "      <td>7</td>\n",
       "      <td>2</td>\n",
       "      <td>45.0</td>\n",
       "    </tr>\n",
       "    <tr>\n",
       "      <th>3</th>\n",
       "      <td>5</td>\n",
       "      <td>52</td>\n",
       "      <td>1</td>\n",
       "      <td>5</td>\n",
       "      <td>2</td>\n",
       "      <td>36.0</td>\n",
       "    </tr>\n",
       "    <tr>\n",
       "      <th>4</th>\n",
       "      <td>7</td>\n",
       "      <td>75</td>\n",
       "      <td>0</td>\n",
       "      <td>8</td>\n",
       "      <td>5</td>\n",
       "      <td>66.0</td>\n",
       "    </tr>\n",
       "  </tbody>\n",
       "</table>\n",
       "</div>"
      ],
      "text/plain": [
       "   Hours Studied  Previous Scores  Extracurricular Activities  Sleep Hours  \\\n",
       "0              7               99                           1            9   \n",
       "1              4               82                           0            4   \n",
       "2              8               51                           1            7   \n",
       "3              5               52                           1            5   \n",
       "4              7               75                           0            8   \n",
       "\n",
       "   Sample Question Papers Practiced  Performance Index  \n",
       "0                                 1               91.0  \n",
       "1                                 2               65.0  \n",
       "2                                 2               45.0  \n",
       "3                                 2               36.0  \n",
       "4                                 5               66.0  "
      ]
     },
     "execution_count": 20,
     "metadata": {},
     "output_type": "execute_result"
    }
   ],
   "source": [
    "df['Extracurricular Activities'] = df['Extracurricular Activities'].str.strip().str.capitalize()\n",
    "df['Extracurricular Activities'] = df['Extracurricular Activities'].map({\"Yes\": 1, \"No\": 0})\n",
    "df.head()"
   ]
  },
  {
   "cell_type": "markdown",
   "id": "c1aa2691",
   "metadata": {
    "papermill": {
     "duration": 0.006545,
     "end_time": "2025-01-24T20:28:33.452263",
     "exception": false,
     "start_time": "2025-01-24T20:28:33.445718",
     "status": "completed"
    },
    "tags": []
   },
   "source": [
    "## Step-6: Separate features (X) and target (y)"
   ]
  },
  {
   "cell_type": "code",
   "execution_count": 21,
   "id": "86a2fee3",
   "metadata": {
    "execution": {
     "iopub.execute_input": "2025-01-24T20:28:33.466897Z",
     "iopub.status.busy": "2025-01-24T20:28:33.466500Z",
     "iopub.status.idle": "2025-01-24T20:28:33.485387Z",
     "shell.execute_reply": "2025-01-24T20:28:33.484496Z"
    },
    "papermill": {
     "duration": 0.027787,
     "end_time": "2025-01-24T20:28:33.486805",
     "exception": false,
     "start_time": "2025-01-24T20:28:33.459018",
     "status": "completed"
    },
    "tags": []
   },
   "outputs": [
    {
     "data": {
      "text/html": [
       "<div>\n",
       "<style scoped>\n",
       "    .dataframe tbody tr th:only-of-type {\n",
       "        vertical-align: middle;\n",
       "    }\n",
       "\n",
       "    .dataframe tbody tr th {\n",
       "        vertical-align: top;\n",
       "    }\n",
       "\n",
       "    .dataframe thead th {\n",
       "        text-align: right;\n",
       "    }\n",
       "</style>\n",
       "<table border=\"1\" class=\"dataframe\">\n",
       "  <thead>\n",
       "    <tr style=\"text-align: right;\">\n",
       "      <th></th>\n",
       "      <th>Hours Studied</th>\n",
       "      <th>Previous Scores</th>\n",
       "      <th>Extracurricular Activities</th>\n",
       "      <th>Sleep Hours</th>\n",
       "      <th>Sample Question Papers Practiced</th>\n",
       "    </tr>\n",
       "  </thead>\n",
       "  <tbody>\n",
       "    <tr>\n",
       "      <th>0</th>\n",
       "      <td>7</td>\n",
       "      <td>99</td>\n",
       "      <td>1</td>\n",
       "      <td>9</td>\n",
       "      <td>1</td>\n",
       "    </tr>\n",
       "    <tr>\n",
       "      <th>1</th>\n",
       "      <td>4</td>\n",
       "      <td>82</td>\n",
       "      <td>0</td>\n",
       "      <td>4</td>\n",
       "      <td>2</td>\n",
       "    </tr>\n",
       "    <tr>\n",
       "      <th>2</th>\n",
       "      <td>8</td>\n",
       "      <td>51</td>\n",
       "      <td>1</td>\n",
       "      <td>7</td>\n",
       "      <td>2</td>\n",
       "    </tr>\n",
       "    <tr>\n",
       "      <th>3</th>\n",
       "      <td>5</td>\n",
       "      <td>52</td>\n",
       "      <td>1</td>\n",
       "      <td>5</td>\n",
       "      <td>2</td>\n",
       "    </tr>\n",
       "    <tr>\n",
       "      <th>4</th>\n",
       "      <td>7</td>\n",
       "      <td>75</td>\n",
       "      <td>0</td>\n",
       "      <td>8</td>\n",
       "      <td>5</td>\n",
       "    </tr>\n",
       "  </tbody>\n",
       "</table>\n",
       "</div>"
      ],
      "text/plain": [
       "   Hours Studied  Previous Scores  Extracurricular Activities  Sleep Hours  \\\n",
       "0              7               99                           1            9   \n",
       "1              4               82                           0            4   \n",
       "2              8               51                           1            7   \n",
       "3              5               52                           1            5   \n",
       "4              7               75                           0            8   \n",
       "\n",
       "   Sample Question Papers Practiced  \n",
       "0                                 1  \n",
       "1                                 2  \n",
       "2                                 2  \n",
       "3                                 2  \n",
       "4                                 5  "
      ]
     },
     "execution_count": 21,
     "metadata": {},
     "output_type": "execute_result"
    }
   ],
   "source": [
    "y = df['Performance Index'].values\n",
    "X = df.drop('Performance Index', axis=1)\n",
    "X.head()"
   ]
  }
 ],
 "metadata": {
  "kaggle": {
   "accelerator": "none",
   "dataSources": [
    {
     "datasetId": 1815,
     "sourceId": 3139,
     "sourceType": "datasetVersion"
    }
   ],
   "dockerImageVersionId": 30839,
   "isGpuEnabled": false,
   "isInternetEnabled": false,
   "language": "python",
   "sourceType": "notebook"
  },
  "kernelspec": {
   "display_name": "Python 3",
   "language": "python",
   "name": "python3"
  },
  "language_info": {
   "codemirror_mode": {
    "name": "ipython",
    "version": 3
   },
   "file_extension": ".py",
   "mimetype": "text/x-python",
   "name": "python",
   "nbconvert_exporter": "python",
   "pygments_lexer": "ipython3",
   "version": "3.12.7"
  },
  "papermill": {
   "default_parameters": {},
   "duration": 7.609169,
   "end_time": "2025-01-24T20:28:35.093868",
   "environment_variables": {},
   "exception": null,
   "input_path": "__notebook__.ipynb",
   "output_path": "__notebook__.ipynb",
   "parameters": {},
   "start_time": "2025-01-24T20:28:27.484699",
   "version": "2.6.0"
  }
 },
 "nbformat": 4,
 "nbformat_minor": 5
}
