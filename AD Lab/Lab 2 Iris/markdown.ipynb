{
 "cells": [
  {
   "cell_type": "markdown",
   "metadata": {},
   "source": [
    "<h1 style=\"color: lightgreen; background-color: #1e1e2f; text-align: center; padding: 10px; border-radius: 8px;\">Practice</h1>\n"
   ]
  },
  {
   "cell_type": "markdown",
   "metadata": {},
   "source": [
    "## <p align=\"center\">Practice</p>\n",
    "<p align=\"center\">Practice</p>"
   ]
  },
  {
   "cell_type": "markdown",
   "metadata": {},
   "source": [
    "- axis=O drops the entire row\n",
    "- axis=1 drops the entire column\n",
    "- df.dropna(subset=[\"Price\"], axis=O, inplace = True)\n",
    "- Setting the argument in place to True allows the modification to be done on the data set directly, inplace = True just writes the result back into the data frame. "
   ]
  },
  {
   "cell_type": "markdown",
   "metadata": {},
   "source": [
    "# Practice\n",
    "## Practice\n",
    "### Practice\n",
    "\n",
    "`Practice`\n",
    "\n",
    "**`Practice`**\n",
    "\n",
    "**'Practice'**\n",
    "\n",
    "*Practice* -> **Practice** -> ***Practice***\n",
    "\n",
    "- Practice.\n",
    "-- Practice\n",
    "--- Practice"
   ]
  },
  {
   "cell_type": "markdown",
   "metadata": {},
   "source": [
    "- Item 1\n",
    "- Item 2\n",
    "  - Sub-item 2.1\n",
    "  - Sub-item 2.2\n",
    "\n",
    "* Item 1\n",
    "* Item 2\n",
    "  * Sub-item 2.1\n",
    "  * Sub-item 2.2\n",
    "\n",
    "+ Item 1\n",
    "+ Item 2\n",
    "  + Sub-item 2.1\n",
    "  + Sub-item 2.2"
   ]
  },
  {
   "cell_type": "markdown",
   "metadata": {},
   "source": [
    "1. Step 1\n",
    "2. Step 2\n",
    "   1. Sub-step 2.1\n",
    "   2. Sub-step 2.2\n",
    "3. Step 3\n",
    "\n",
    "\n",
    "1. Main Step 1\n",
    "   - Detail 1.1\n",
    "   - Detail 1.2\n",
    "2. Main Step 2\n",
    "   * Detail 2.1\n",
    "   * Detail 2.2"
   ]
  },
  {
   "cell_type": "markdown",
   "metadata": {},
   "source": [
    "Some Platforms might have Markdown Renderers Without HTML Support\n",
    "If your platform doesn't support HTML, you might have to use workarounds like manual spacing or Markdown extensions that support alignment (e.g., ::: for center alignment in some tools like Typora).\n",
    "\n",
    "For example:\n",
    "::center::\n",
    "This text is centered.\n",
    ":::"
   ]
  }
 ],
 "metadata": {
  "language_info": {
   "name": "python"
  }
 },
 "nbformat": 4,
 "nbformat_minor": 2
}
